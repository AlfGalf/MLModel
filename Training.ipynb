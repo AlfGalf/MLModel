{
 "cells": [
  {
   "cell_type": "code",
   "execution_count": 10,
   "id": "popular-thermal",
   "metadata": {},
   "outputs": [],
   "source": [
    "import numpy\n",
    "import pandas\n",
    "\n",
    "import keras\n",
    "import tensorflow as tf\n",
    "\n",
    "import os\n",
    "import sys\n",
    "\n",
    "sys.path.append(os.getenv('IP_HOME'))\n",
    "\n",
    "import IPOpenCVModel"
   ]
  },
  {
   "cell_type": "code",
   "execution_count": null,
   "id": "editorial-packet",
   "metadata": {},
   "outputs": [],
   "source": []
  },
  {
   "cell_type": "code",
   "execution_count": 5,
   "id": "according-angle",
   "metadata": {},
   "outputs": [],
   "source": [
    "training_set = \"/Users/alfierichards/Documents/archive/asl_alphabet_train\"\n",
    "test_set = \"/Users/alfierichards/Documents/archive/asl_alphabet_test\""
   ]
  },
  {
   "cell_type": "code",
   "execution_count": null,
   "id": "elementary-bidder",
   "metadata": {},
   "outputs": [],
   "source": []
  }
 ],
 "metadata": {
  "kernelspec": {
   "display_name": "Python 3",
   "language": "python",
   "name": "python3"
  },
  "language_info": {
   "codemirror_mode": {
    "name": "ipython",
    "version": 3
   },
   "file_extension": ".py",
   "mimetype": "text/x-python",
   "name": "python",
   "nbconvert_exporter": "python",
   "pygments_lexer": "ipython3",
   "version": "3.8.7"
  }
 },
 "nbformat": 4,
 "nbformat_minor": 5
}
